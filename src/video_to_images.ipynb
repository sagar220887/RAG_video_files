{
 "cells": [
  {
   "cell_type": "code",
   "execution_count": null,
   "metadata": {},
   "outputs": [],
   "source": [
    "! pip3 install opencv-python"
   ]
  },
  {
   "cell_type": "code",
   "execution_count": null,
   "metadata": {},
   "outputs": [],
   "source": [
    "from moviepy.editor import VideoFileClip\n",
    "import os\n",
    "\n",
    "movie = os.path.join('video_data', 'input_video.mp4')\n",
    "\n",
    "clip = VideoFileClip(movie)\n",
    "clip_fps = clip.fps\n",
    "\n",
    "times = [i/clip.fps for i in range(int(clip.fps * clip.duration))]\n",
    "\n",
    "for t in times:\n",
    "    clip_fps_int = int(t*clip_fps)\n",
    "    image_path = os.path.join('output_data', f'{clip_fps_int}.png')\n",
    "    clip.save_frame(image_path, t)\n",
    "\n",
    "\n"
   ]
  },
  {
   "cell_type": "code",
   "execution_count": null,
   "metadata": {},
   "outputs": [],
   "source": [
    "def convert_video_to_images(video_path, image_path_to_save):\n",
    "    clip = VideoFileClip(video_path)\n",
    "\n",
    "    times = [i/clip.fps for i in range(int(clip.fps * clip.duration))]\n",
    "    print('Number of frames to be cretaed - ', times)\n",
    "\n",
    "    for t in times:\n",
    "        clip_fps_int = int(t*clip.fps)\n",
    "        image_path = os.path.join(image_path_to_save, f'{clip_fps_int}.png')\n",
    "        clip.save_frame(image_path, t)"
   ]
  },
  {
   "cell_type": "code",
   "execution_count": null,
   "metadata": {},
   "outputs": [],
   "source": [
    "movie = os.path.join('video_data', 'input_video.mp4')\n",
    "clip = VideoFileClip(movie)\n",
    "clip.write_images_sequence('frames/frame%03d.jpeg', fps=float(clip.fps)) "
   ]
  },
  {
   "cell_type": "code",
   "execution_count": null,
   "metadata": {},
   "outputs": [],
   "source": [
    "import numpy as np\n",
    "movie = os.path.join('video_data', 'input_video.mp4')\n",
    "clip = VideoFileClip(movie)\n",
    "# clip.write_images_sequence('frames/frame%03d.jpeg', fps=int(clip.fps)) \n",
    "print('clip.duration - ', clip.duration)\n",
    "print('clip.fps - ', clip.fps)\n",
    "\n",
    "tt = np.arange(0, clip.duration, 1.0 / clip.fps)\n",
    "\n",
    "print(tt)\n"
   ]
  },
  {
   "cell_type": "markdown",
   "metadata": {},
   "source": [
    "### Using cv2"
   ]
  },
  {
   "cell_type": "code",
   "execution_count": null,
   "metadata": {},
   "outputs": [],
   "source": [
    "! pip install opencv-python"
   ]
  },
  {
   "cell_type": "code",
   "execution_count": null,
   "metadata": {},
   "outputs": [],
   "source": [
    "import cv2 \n",
    "import os \n",
    "\n",
    "movie = os.path.join('video_data', 'input_video.mp4')\n",
    "  \n",
    "# Read the video from specified path \n",
    "cam = cv2.VideoCapture(movie) \n",
    "  \n",
    "# frame \n",
    "currentframe = 0\n",
    "  \n",
    "while(True): \n",
    "      \n",
    "    # reading from frame \n",
    "    ret,frame = cam.read() \n",
    "  \n",
    "    if ret: \n",
    "        # if video is still left continue creating images \n",
    "        name = os.path.join('output_data', f'{currentframe}.jpg')\n",
    "        # name = './data/frame' + str(currentframe) + '.jpg'\n",
    "        print ('Creating...' + name) \n",
    "  \n",
    "        # writing the extracted images \n",
    "        cv2.imwrite(name, frame) \n",
    "  \n",
    "        # increasing counter so that it will \n",
    "        # show how many frames are created \n",
    "        currentframe += 1\n",
    "    else: \n",
    "        break\n",
    "  \n",
    "# Release all space and windows once done \n",
    "cam.release() \n",
    "cv2.destroyAllWindows() "
   ]
  },
  {
   "cell_type": "code",
   "execution_count": null,
   "metadata": {},
   "outputs": [],
   "source": [
    "### defining a function\n",
    "\n",
    "def convert_video_to_images(video_path, image_path_to_save):\n",
    "    try: \n",
    "        cam = cv2.VideoCapture(movie) \n",
    "        currentframe = 0\n",
    "        \n",
    "        while(True): \n",
    "            ret,frame = cam.read() \n",
    "            if ret: \n",
    "                name = os.path.join('output_data', f'{currentframe}.jpg')\n",
    "                print ('Creating...' + name) \n",
    "                cv2.imwrite(name, frame) \n",
    "                currentframe += 1\n",
    "            else: \n",
    "                break\n",
    "        cam.release() \n",
    "        cv2.destroyAllWindows() \n",
    "\n",
    "    except Exception as e:\n",
    "        print('Exception inside convert_video_to_images - ', e)\n",
    "\n"
   ]
  }
 ],
 "metadata": {
  "kernelspec": {
   "display_name": "Python 3",
   "language": "python",
   "name": "python3"
  },
  "language_info": {
   "codemirror_mode": {
    "name": "ipython",
    "version": 3
   },
   "file_extension": ".py",
   "mimetype": "text/x-python",
   "name": "python",
   "nbconvert_exporter": "python",
   "pygments_lexer": "ipython3",
   "version": "3.11.9"
  }
 },
 "nbformat": 4,
 "nbformat_minor": 2
}
